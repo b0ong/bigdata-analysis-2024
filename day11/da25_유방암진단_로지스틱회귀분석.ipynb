{
 "cells": [
  {
   "cell_type": "markdown",
   "metadata": {},
   "source": [
    "## 머신러닝 실습\n",
    "\n",
    "### 로지스틱스회귀\n",
    "\n",
    "#### 개념이해\n",
    "\n",
    "##### 로지스틱회귀\n",
    "- 선형회귀로 구할 수 없는 분류에 사용하는 기법\n",
    "- S자 함수 사용 (참 / 거짓) 분류\n",
    "    <img src=\"https://github.com/b0ong/bigdata-analysis-2024/blob/main/images/ba017.jpeg\" width = \"600\">\n",
    "    <!-- ![로지스틱회귀](https://github.com/b0ong/bigdata-analysis-2024/blob/main/images/ba017.jpeg) -->\n",
    "\n",
    "##### 시그모이드(Sigmoid: S자형) 함수\n",
    "$$y = \\frac{1}{1 + e^{ax + b}}$$\n",
    "\n",
    "#### 로지스틱회귀모델의 성능평가지표\n",
    "- 선형회귀 : MSE(평균제곱오류), RMSE(평균제곱의 제곱근 오류), R^2 score(분산비율)\n",
    "- 로지스틱회귀 : 오차행렬에 기반한 정밀도, 재현율, F1스코어, ROC_AUC스코어"
   ]
  },
  {
   "cell_type": "markdown",
   "metadata": {},
   "source": [
    "### 유방암진단 로지스틱스회귀분석\n",
    "\n",
    "#### 데이터 수집\n",
    "\n",
    "##### Scikit-Learn 내장데이터"
   ]
  },
  {
   "cell_type": "code",
   "execution_count": null,
   "metadata": {},
   "outputs": [],
   "source": []
  }
 ],
 "metadata": {
  "language_info": {
   "name": "python"
  }
 },
 "nbformat": 4,
 "nbformat_minor": 2
}
